{
 "cells": [
  {
   "cell_type": "code",
   "execution_count": 10,
   "id": "ab0ca99a",
   "metadata": {},
   "outputs": [
    {
     "name": "stdout",
     "output_type": "stream",
     "text": [
      "Sorted sample list is [(3, 1), (3, 2), (5, 3), (2, 4), (2, 5)]\n"
     ]
    }
   ],
   "source": [
    "sample_list = [(2,5),(3,2),(2,4),(5,3),(3,1)]\n",
    "for i in range (len(sample_list)+1):\n",
    "    for j in range(0,len(sample_list)-i-1):\n",
    "        if sample_list[j][-1] > sample_list[j+1][-1]:\n",
    "            swap = sample_list[j]\n",
    "            sample_list[j] = sample_list[j+1]\n",
    "            sample_list[j+1] = swap\n",
    "print(f'Sorted sample list is {sample_list}')"
   ]
  },
  {
   "cell_type": "code",
   "execution_count": null,
   "id": "2243a0c7",
   "metadata": {},
   "outputs": [],
   "source": []
  }
 ],
 "metadata": {
  "kernelspec": {
   "display_name": "Python 3 (ipykernel)",
   "language": "python",
   "name": "python3"
  },
  "language_info": {
   "codemirror_mode": {
    "name": "ipython",
    "version": 3
   },
   "file_extension": ".py",
   "mimetype": "text/x-python",
   "name": "python",
   "nbconvert_exporter": "python",
   "pygments_lexer": "ipython3",
   "version": "3.9.7"
  }
 },
 "nbformat": 4,
 "nbformat_minor": 5
}
